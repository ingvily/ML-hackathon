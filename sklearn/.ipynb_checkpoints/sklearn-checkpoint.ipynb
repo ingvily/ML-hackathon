{
 "cells": [
  {
   "cell_type": "code",
   "execution_count": 10,
   "metadata": {
    "collapsed": false
   },
   "outputs": [
    {
     "name": "stdout",
     "output_type": "stream",
     "text": [
      "[-1.4383245  -1.58515769 -0.53724584 -0.86720042 -1.33413565 -1.79869884\n",
      " -0.96532589  3.54383657  4.03919652  4.48289667  4.31600715  4.07468651\n",
      "  3.7545352   3.82990546  3.50257994  3.27508244  3.33037769  3.24772717]\n",
      "Training set score: 0.741867\n"
     ]
    }
   ],
   "source": [
    "\n",
    "from sklearn.neural_network import MLPRegressor\n",
    "import csv\n",
    "import numpy as np\n",
    "from sklearn.preprocessing import StandardScaler  \n",
    "\n",
    "X_train = []\n",
    "y_train = []\n",
    "\n",
    "def readDataSet():\n",
    "    with open('../traindata/train.csv', 'rb') as csvfile:\n",
    "        reader = csv.reader(csvfile, delimiter=',', quotechar='|')\n",
    "        for row in reader:\n",
    "             #if(isinstance(row[0], float)):\n",
    "                row = list(map(lambda x: float(x), row))\n",
    "                X_train.append(row[:-1])\n",
    "                y_train.append(row[-1])\n",
    "                \n",
    "                \n",
    "readDataSet()\n",
    "\n",
    "scaler = StandardScaler()  \n",
    "scaler.fit(X_train)  \n",
    "X_train = scaler.transform(X_train)  \n",
    "#X_test = scaler.transform(X_test)\n",
    "\n",
    "print X_train[0]\n",
    "\n",
    "\n",
    "mlp = MLPRegressor()\n",
    "\n",
    "mlp.fit(X_train, y_train)\n",
    "print(\"Training set score: %f\" % mlp.score(X_train, y_train))\n",
    "#print(\"Test set score: %f\" % mlp.score(X_test, y_test))\n",
    "\n"
   ]
  },
  {
   "cell_type": "code",
   "execution_count": null,
   "metadata": {
    "collapsed": true
   },
   "outputs": [],
   "source": []
  },
  {
   "cell_type": "code",
   "execution_count": null,
   "metadata": {
    "collapsed": true
   },
   "outputs": [],
   "source": []
  }
 ],
 "metadata": {
  "kernelspec": {
   "display_name": "Python 2",
   "language": "python",
   "name": "python2"
  },
  "language_info": {
   "codemirror_mode": {
    "name": "ipython",
    "version": 2
   },
   "file_extension": ".py",
   "mimetype": "text/x-python",
   "name": "python",
   "nbconvert_exporter": "python",
   "pygments_lexer": "ipython2",
   "version": "2.7.12"
  }
 },
 "nbformat": 4,
 "nbformat_minor": 1
}
