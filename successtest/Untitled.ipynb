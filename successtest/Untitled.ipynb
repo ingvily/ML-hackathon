{
 "cells": [
  {
   "cell_type": "code",
   "execution_count": null,
   "metadata": {
    "collapsed": true
   },
   "outputs": [],
   "source": [
    "Vi ma finne ut hvordan de skal levere fil:\n",
    "    \n",
    "Enten \n",
    "p1, p2, p3\n",
    "\n",
    "eller\n",
    "p1\n",
    "p2\n",
    "p3"
   ]
  },
  {
   "cell_type": "code",
   "execution_count": 6,
   "metadata": {
    "collapsed": false
   },
   "outputs": [
    {
     "name": "stdout",
     "output_type": "stream",
     "text": [
      "0.426456698631\n"
     ]
    }
   ],
   "source": [
    "from sklearn.metrics import mean_squared_error as MSE\n",
    "import csv\n",
    "import numpy as np\n",
    "from math import sqrt\n",
    "\n",
    "y = []\n",
    "y_predicted = []\n",
    "\n",
    "def readDataSet():\n",
    "    with open('../testdata/test_scaled.csv', 'rb') as csvfile:\n",
    "        reader = csv.reader(csvfile, delimiter=',', quotechar='|')\n",
    "        for row in reader:\n",
    "                y.append(float(row[-1]))\n",
    "                \n",
    "def readCSV():\n",
    "    with open('predicition.csv', 'rb') as csvfile:\n",
    "        reader = csv.reader(csvfile, delimiter=',', quotechar='|')\n",
    "        for row in reader:\n",
    "                y_predicted.append(row[-1]) \n",
    "                \n",
    "\n",
    "readDataSet()\n",
    "\n",
    "for i in range(29):\n",
    "    y_predicted.append(0.1);\n",
    "    \n",
    "mse = MSE( y, y_predicted )\n",
    "rmse = sqrt( mse )\n",
    "\n",
    "print rmse"
   ]
  },
  {
   "cell_type": "code",
   "execution_count": null,
   "metadata": {
    "collapsed": true
   },
   "outputs": [],
   "source": []
  }
 ],
 "metadata": {
  "kernelspec": {
   "display_name": "Python 2",
   "language": "python",
   "name": "python2"
  },
  "language_info": {
   "codemirror_mode": {
    "name": "ipython",
    "version": 2
   },
   "file_extension": ".py",
   "mimetype": "text/x-python",
   "name": "python",
   "nbconvert_exporter": "python",
   "pygments_lexer": "ipython2",
   "version": "2.7.12"
  }
 },
 "nbformat": 4,
 "nbformat_minor": 1
}
