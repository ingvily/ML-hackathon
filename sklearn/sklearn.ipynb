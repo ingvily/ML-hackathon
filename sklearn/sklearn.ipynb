{
 "cells": [
  {
   "cell_type": "code",
   "execution_count": 10,
   "metadata": {
    "collapsed": false
   },
   "outputs": [
    {
     "name": "stdout",
     "output_type": "stream",
     "text": [
      "1800\n",
      "289\n",
      "0.203276590715\n",
      "0.142746727078\n",
      "0.135505847265\n",
      "0.13240618416\n",
      "0.134532577947\n",
      "0.13489134455\n",
      "0.130464003143\n",
      "0.124793855185\n",
      "0.120562949409\n",
      "0.11821720165\n",
      "0.117634085471\n",
      "0.117937357076\n",
      "0.118261723522\n",
      "0.118403672861\n",
      "0.118270106675\n",
      "0.117901468153\n",
      "0.117363406739\n",
      "0.11665562357\n",
      "0.115876796635\n",
      "0.115138606668\n",
      "0.114465382947\n",
      "0.113818470147\n",
      "0.113229606166\n",
      "0.112672432222\n",
      "0.11215881094\n",
      "0.111705176638\n",
      "0.111286650971\n",
      "0.11091693122\n",
      "0.110556795263\n",
      "0.110203590889\n",
      "0.109878749733\n",
      "0.109600219048\n",
      "0.109339980249\n",
      "0.109129841701\n",
      "0.108955483512\n",
      "0.108775176184\n",
      "0.108607391479\n",
      "0.10849721608\n",
      "0.108364844905\n",
      "0.108237006546\n",
      "0.108142191768\n",
      "0.108101438784\n",
      "0.108055240352\n",
      "0.108015284261\n",
      "0.107990901944\n",
      "0.107962548441\n",
      "0.107942393758\n",
      "0.107910274787\n",
      "0.1079002508\n",
      "0.10787262945\n",
      "Training set score: 0.928963\n"
     ]
    }
   ],
   "source": [
    "\n",
    "from sklearn.neural_network import MLPRegressor\n",
    "import csv\n",
    "import numpy as np\n",
    "from sklearn.preprocessing import StandardScaler  \n",
    "from sklearn.metrics import mean_squared_error as MSE\n",
    "from math import sqrt\n",
    "\n",
    "X = []\n",
    "y = []\n",
    "\n",
    "def readDataSet():\n",
    "    with open('../traindata/train_scaled.csv', 'rb') as csvfile:\n",
    "        reader = csv.reader(csvfile, delimiter=',', quotechar='|')\n",
    "        for row in reader:\n",
    "             #if(isinstance(row[0], float)):\n",
    "                row = list(map(lambda x: float(x), row))\n",
    "                X.append(row[:-1])\n",
    "                y.append(row[-1])\n",
    "                \n",
    "                \n",
    "readDataSet()\n",
    "\n",
    "#scaler = StandardScaler()  \n",
    "#scaler.fit(X_train)  \n",
    "#X_train = scaler.transform(X_train)  \n",
    "#X_test = scaler.transform(X_test)\n",
    "\n",
    "X_train = X[:1800]\n",
    "y_train = y[:1800]\n",
    "X_val = X[1800:]\n",
    "y_val = y[1800:]\n",
    "\n",
    "\n",
    "\n",
    "print len(X_train)\n",
    "print len(X_val)\n",
    "\n",
    "\n",
    "\n",
    "mlp = MLPRegressor(hidden_layer_sizes=(100,50,), random_state=1, max_iter=1,\n",
    "                   warm_start=True, learning_rate_init =0.000001)\n",
    "\n",
    "for i in range(5000):\n",
    "    mlp.fit(X_train, y_train)\n",
    "    if(i % 100 == 0):\n",
    "        #print(\"Validation set score: %f\" % mlp.score(X_val, y_val)) \n",
    "        #print(\"Training set score: %f\" % mlp.score(X_train, y_train))\n",
    "        p = mlp.predict(X_val);\n",
    "        mse = MSE( y_val, p )\n",
    "        rmse = sqrt( mse )\n",
    "        print rmse\n",
    "    \n",
    "print(\"Training set score: %f\" % mlp.score(X_train, y_train))\n",
    "\n",
    "\n"
   ]
  },
  {
   "cell_type": "code",
   "execution_count": 13,
   "metadata": {
    "collapsed": false
   },
   "outputs": [
    {
     "name": "stdout",
     "output_type": "stream",
     "text": [
      "0.0786597497036\n"
     ]
    }
   ],
   "source": [
    "X_test = []\n",
    "y_test = []\n",
    "\n",
    "def readDataSet():\n",
    "    with open('../testdata/test_scaled.csv', 'rb') as csvfile:\n",
    "        reader = csv.reader(csvfile, delimiter=',', quotechar='|')\n",
    "        for row in reader:\n",
    "             #if(isinstance(row[0], float)):\n",
    "                row = list(map(lambda x: float(x), row))\n",
    "                X_test.append(row[:-1])\n",
    "                y_test.append(row[-1])\n",
    "                \n",
    "                \n",
    "readDataSet()\n",
    "\n",
    "\n",
    "p = mlp.predict(X_test);\n",
    "mse = MSE( y_test, p )\n",
    "rmse = sqrt( mse )\n",
    "print rmse\n",
    "\n",
    "#print(\"Test set score: %f\" % mlp.score(X_test, y_test))"
   ]
  },
  {
   "cell_type": "code",
   "execution_count": null,
   "metadata": {
    "collapsed": true
   },
   "outputs": [],
   "source": []
  }
 ],
 "metadata": {
  "kernelspec": {
   "display_name": "Python [Root]",
   "language": "python",
   "name": "Python [Root]"
  },
  "language_info": {
   "codemirror_mode": {
    "name": "ipython",
    "version": 2
   },
   "file_extension": ".py",
   "mimetype": "text/x-python",
   "name": "python",
   "nbconvert_exporter": "python",
   "pygments_lexer": "ipython2",
   "version": "2.7.12"
  }
 },
 "nbformat": 4,
 "nbformat_minor": 1
}
