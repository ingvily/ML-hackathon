{
 "cells": [
  {
   "cell_type": "code",
   "execution_count": 42,
   "metadata": {
    "collapsed": false
   },
   "outputs": [
    {
     "name": "stdout",
     "output_type": "stream",
     "text": [
      "1800\n",
      "289\n",
      "0.454594686011\n",
      "0.401061171778\n",
      "0.348102835377\n",
      "0.295375750343\n",
      "0.244129454814\n",
      "0.198100924594\n",
      "0.164810758804\n",
      "0.148388131389\n",
      "0.141457990455\n",
      "0.138400047527\n",
      "0.136774413721\n",
      "0.135610285355\n",
      "0.134617538416\n",
      "0.133648882818\n",
      "0.132713800801\n",
      "0.131856224018\n",
      "0.131001286583\n",
      "0.130206279457\n",
      "0.129459972627\n",
      "0.128799285033\n",
      "0.128230789247\n",
      "0.127754712706\n",
      "0.127219247316\n",
      "0.126599558075\n",
      "0.125866844596\n",
      "0.125168251139\n",
      "0.124478934389\n",
      "0.123815039845\n",
      "0.12315161605\n",
      "0.122561248627\n",
      "0.122021448911\n",
      "0.121528240732\n",
      "0.121074172026\n",
      "0.120688093981\n",
      "0.120380830509\n",
      "0.120099387139\n",
      "0.119837607033\n",
      "0.119607391127\n",
      "0.119367384479\n",
      "0.119134926881\n",
      "0.118942080325\n",
      "0.118783417587\n",
      "0.118662713519\n",
      "0.118552821281\n",
      "0.118460358286\n",
      "0.118390344234\n",
      "0.118321681708\n",
      "0.11824718716\n",
      "0.118225710886\n",
      "0.118234419031\n",
      "Training set score: 0.930515\n"
     ]
    }
   ],
   "source": [
    "\n",
    "from sklearn.neural_network import MLPRegressor\n",
    "import csv\n",
    "import numpy as np\n",
    "from sklearn.preprocessing import StandardScaler  \n",
    "from sklearn.metrics import mean_squared_error as MSE\n",
    "from math import sqrt\n",
    "\n",
    "X = []\n",
    "y = []\n",
    "\n",
    "def readDataSet():\n",
    "    with open('../traindata/train_scaled.csv', 'rb') as csvfile:\n",
    "        reader = csv.reader(csvfile, delimiter=',', quotechar='|')\n",
    "        for row in reader:\n",
    "             #if(isinstance(row[0], float)):\n",
    "                row = list(map(lambda x: float(x), row))\n",
    "                X.append(row[:-1])\n",
    "                y.append(row[-1])\n",
    "                \n",
    "                \n",
    "readDataSet()\n",
    "\n",
    "#scaler = StandardScaler()  \n",
    "#scaler.fit(X_train)  \n",
    "#X_train = scaler.transform(X_train)  \n",
    "#X_test = scaler.transform(X_test)\n",
    "\n",
    "X_train = X[:1800]\n",
    "y_train = y[:1800]\n",
    "X_val = X[1800:]\n",
    "y_val = y[1800:]\n",
    "\n",
    "\n",
    "\n",
    "print len(X_train)\n",
    "print len(X_val)\n",
    "\n",
    "\n",
    "\n",
    "mlp = MLPRegressor(hidden_layer_sizes=(100,50,), random_state=1, max_iter=1,\n",
    "                   warm_start=True, learning_rate_init =0.000001)\n",
    "\n",
    "for i in range(5000):\n",
    "    mlp.fit(X_train, y_train)\n",
    "    if(i % 100 == 0):\n",
    "        #print(\"Validation set score: %f\" % mlp.score(X_val, y_val)) \n",
    "        #print(\"Training set score: %f\" % mlp.score(X_train, y_train))\n",
    "        p = mlp.predict(X_val);\n",
    "        mse = MSE( y_val, p )\n",
    "        rmse = sqrt( mse )\n",
    "        print rmse\n",
    "    \n",
    "print(\"Training set score: %f\" % mlp.score(X_train, y_train))\n",
    "\n",
    "\n"
   ]
  },
  {
   "cell_type": "code",
   "execution_count": 45,
   "metadata": {
    "collapsed": false
   },
   "outputs": [
    {
     "name": "stdout",
     "output_type": "stream",
     "text": [
      "0.102697452324\n"
     ]
    }
   ],
   "source": [
    "X_test = []\n",
    "y_test = []\n",
    "\n",
    "def readDataSet():\n",
    "    with open('../testdata/test_scaled.csv', 'rb') as csvfile:\n",
    "        reader = csv.reader(csvfile, delimiter=',', quotechar='|')\n",
    "        for row in reader:\n",
    "             #if(isinstance(row[0], float)):\n",
    "                row = list(map(lambda x: float(x), row))\n",
    "                X_test.append(row[:-1])\n",
    "                y_test.append(row[-1])\n",
    "                \n",
    "                \n",
    "readDataSet()\n",
    "\n",
    "\n",
    "p = mlp.predict(X_test);\n",
    "mse = MSE( y_test, p )\n",
    "rmse = sqrt( mse )\n",
    "print rmse\n",
    "\n",
    "#print(\"Test set score: %f\" % mlp.score(X_test, y_test))"
   ]
  },
  {
   "cell_type": "code",
   "execution_count": null,
   "metadata": {
    "collapsed": true
   },
   "outputs": [],
   "source": []
  }
 ],
 "metadata": {
  "kernelspec": {
   "display_name": "Python 2",
   "language": "python",
   "name": "python2"
  },
  "language_info": {
   "codemirror_mode": {
    "name": "ipython",
    "version": 2
   },
   "file_extension": ".py",
   "mimetype": "text/x-python",
   "name": "python",
   "nbconvert_exporter": "python",
   "pygments_lexer": "ipython2",
   "version": "2.7.12"
  }
 },
 "nbformat": 4,
 "nbformat_minor": 1
}
